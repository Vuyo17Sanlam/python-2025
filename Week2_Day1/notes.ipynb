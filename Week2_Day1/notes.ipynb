{
 "cells": [
  {
   "cell_type": "markdown",
   "metadata": {},
   "source": [
    "# key word Arguments\n",
    "- def driving_test(name, age ,car) -> def driving_test(name = \"Diyali\", age = 19, car = \"Hyundai i10\")\n",
    "- Positional arg first then key arg second. or you will recieve an syntax error: Positional arguments follows keyword argument. (The fun part: for the keyword arguments you can interchange the order)\n",
    "- \n"
   ]
  },
  {
   "cell_type": "code",
   "execution_count": null,
   "metadata": {},
   "outputs": [],
   "source": [
    "def driving_test(name, age, car):  # Parameter (Matching based on position)\n",
    "    return (\n",
    "        f\"{name} is eligible for driving. You will be tested with {car}\"\n",
    "        if age >= 18\n",
    "        else \"Try again after few years 👶🍼\"\n",
    "    )\n",
    "\n",
    "driving_test(\"Hyundai i10\", 19, \"Diyali\") # Position Arguments\n",
    "driving_test(car = \"Hyundai i10\",age=  19, name = \"Diyali\") # keyword Arguments"
   ]
  }
 ],
 "metadata": {
  "kernelspec": {
   "display_name": "Python 3",
   "language": "python",
   "name": "python3"
  },
  "language_info": {
   "name": "python",
   "version": "3.13.2"
  }
 },
 "nbformat": 4,
 "nbformat_minor": 2
}
