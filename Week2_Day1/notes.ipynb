{
 "cells": [
  {
   "cell_type": "markdown",
   "metadata": {},
   "source": [
    "# key word Arguments\n",
    "- def driving_test(name, age ,car) -> def driving_test(name = \"Diyali\", age = 19, car = \"Hyundai i10\")\n",
    "- Positional arg first then key arg second. or you will recieve an syntax error: Positional arguments follows keyword argument. (The fun part: for the keyword arguments you can interchange the order)\n",
    "- Allows Flexible Ordering\tNo need to remember exact order\n",
    "\n"
   ]
  },
  {
   "cell_type": "code",
   "execution_count": 2,
   "metadata": {},
   "outputs": [
    {
     "data": {
      "text/plain": [
       "'Diyali is eligible for driving. You will be tested with Hyundai i10'"
      ]
     },
     "execution_count": 2,
     "metadata": {},
     "output_type": "execute_result"
    }
   ],
   "source": [
    "def driving_test(name, age, car):  # Parameter (Matching based on position)\n",
    "    return (\n",
    "        f\"{name} is eligible for driving. You will be tested with {car}\"\n",
    "        if age >= 18\n",
    "        else \"Try again after few years 👶🍼\"\n",
    "    )\n",
    "\n",
    "driving_test(\"Hyundai i10\", 19, \"Diyali\") # Position Arguments\n",
    "driving_test(car = \"Hyundai i10\",age=  19, name = \"Diyali\") # keyword Arguments"
   ]
  },
  {
   "cell_type": "markdown",
   "metadata": {},
   "source": [
    "# Default Values\n",
    "- if parameter > Arguments # error\n",
    "- ```py\n",
    "    def driving_test(name, age, car = polo vivo)\n",
    "```\n",
    "- default values should be at the end of function name."
   ]
  },
  {
   "cell_type": "code",
   "execution_count": null,
   "metadata": {},
   "outputs": [],
   "source": [
    "'''driving_test(\n",
    "    \"Diyali\", 19\n",
    ") ''' # this would error out but in some languages it does not error out\n",
    "\n",
    "\n",
    "def driving_test(name, age, car = \"Polo Vivo\"):  # Default value\n",
    "    return (\n",
    "        f\"{name} is eligible for driving. You will be tested with {car}\"\n",
    "        if age >= 18\n",
    "        else \"Try again after few years 👶🍼\"\n",
    "    )\n"
   ]
  },
  {
   "cell_type": "markdown",
   "metadata": {},
   "source": [
    "## Summary Default Values\n",
    " - Default value parameter should come at the last"
   ]
  },
  {
   "cell_type": "markdown",
   "metadata": {},
   "source": [
    "> additional info: Style Guide: e.g use keyword or positional args"
   ]
  },
  {
   "cell_type": "markdown",
   "metadata": {},
   "source": [
    "# Arbitary Parameter\n",
    "- accepts any number of arguments in a function for a particular data type (*args) this is called arbitary operator\n",
    "- * collect all pos args\n",
    "- ** collect all KW args (make a dictionary)\n",
    "- When unpacking dict (format_book_infor(**book)) -> unpacking keyword args"
   ]
  },
  {
   "cell_type": "code",
   "execution_count": 8,
   "metadata": {},
   "outputs": [
    {
     "name": "stdout",
     "output_type": "stream",
     "text": [
      "None\n"
     ]
    }
   ],
   "source": [
    "def own_max(*nums):\n",
    "    maxo = None\n",
    "    for i in nums:\n",
    "        try:\n",
    "            if i > maxo:\n",
    "                maxo = i\n",
    "        except Exception:\n",
    "            maxo = i\n",
    "    return maxo\n",
    "print(own_max())"
   ]
  },
  {
   "cell_type": "code",
   "execution_count": 9,
   "metadata": {},
   "outputs": [
    {
     "name": "stdout",
     "output_type": "stream",
     "text": [
      "h1 hello ('🍉', '🍇', '🍊')\n"
     ]
    }
   ],
   "source": [
    "def fun(s1, s2, *emoji):\n",
    "    print(s1, s2, emoji)\n",
    "\n",
    "fun(\"h1\", \"hello\", \"🍉\", \"🍇\", \"🍊\")"
   ]
  },
  {
   "cell_type": "code",
   "execution_count": null,
   "metadata": {},
   "outputs": [
    {
     "name": "stdout",
     "output_type": "stream",
     "text": [
      "{'name': 'Cool', 'age': 18, 'car': 'BMW'}\n"
     ]
    }
   ],
   "source": [
    "def fun1(**details): # gives a dict\n",
    "    print(details)\n",
    "fun1(name = \"Cool\", age = 18, car = \"BMW\" )"
   ]
  },
  {
   "cell_type": "markdown",
   "metadata": {},
   "source": [
    "> main() is the starting point of the program it's like the snowball effect where you start of with a small function that calls other functions"
   ]
  },
  {
   "cell_type": "markdown",
   "metadata": {},
   "source": [
    "# formating Output\n",
    "- {salary:,} this will format the number with ','\n",
    "- f\"{10000:,.2f}\" this will format the string with ',' and round off by 2"
   ]
  },
  {
   "cell_type": "code",
   "execution_count": 1,
   "metadata": {},
   "outputs": [
    {
     "name": "stdout",
     "output_type": "stream",
     "text": [
      "Inganathi's salary is 1,500,000\n"
     ]
    }
   ],
   "source": [
    "salary = 1_500_000 # DX ⬆️\n",
    "print(f\"Inganathi's salary is {salary:,}\") # you want to improve the UX ⬆️"
   ]
  },
  {
   "cell_type": "code",
   "execution_count": 7,
   "metadata": {},
   "outputs": [
    {
     "name": "stdout",
     "output_type": "stream",
     "text": [
      "3.14\n",
      "10,000.00\n"
     ]
    }
   ],
   "source": [
    "from math import pi, cos # importing from inbuilt package\n",
    "# From <package_name> import <value>, <function>\n",
    "\n",
    "print(round(pi, 2))\n",
    "print(f\"{10000:,.2f}\")"
   ]
  },
  {
   "cell_type": "code",
   "execution_count": 12,
   "metadata": {},
   "outputs": [
    {
     "name": "stdout",
     "output_type": "stream",
     "text": [
      "              Diyali:\n",
      "Diyali              :\n",
      "       Diyali       :\n",
      "🍇🍇🍇🍇Diyali:\n"
     ]
    }
   ],
   "source": [
    "# Text -<Space>- - padding\n",
    "name = \"Diyali\"\n",
    "print(f\"{name:>20}:\")\n",
    "print(f\"{name:<20}:\")\n",
    "print(f\"{name:^20}:\")\n",
    "print(f\"{name:🍇>10}:\")\n",
    "# Text length < padding"
   ]
  },
  {
   "cell_type": "code",
   "execution_count": 1,
   "metadata": {},
   "outputs": [
    {
     "name": "stdout",
     "output_type": "stream",
     "text": [
      "2025-03-06 22:11:18.649631\n",
      "The current date is 06-03-2025\n",
      "The current date is 06-March-2025\n"
     ]
    }
   ],
   "source": [
    "from datetime import datetime\n",
    "now = datetime.now()\n",
    "\n",
    "print(now)\n",
    "print(f\"The current date is {now:%d-%m-%Y}\")\n",
    "print(f\"The current date is {now:%d-%B-%Y}\")\n"
   ]
  },
  {
   "cell_type": "markdown",
   "metadata": {},
   "source": [
    "# importing\n",
    "- from file import function\n",
    "- __name__ is dunder variable\n",
    "- self execution - __name__ -> __main__\n",
    "- from another file - __name__ -> file name\n",
    "- Types of import:\n",
    "  - Import entire file\n",
    "  - Import only the required function or values (Prefared)"
   ]
  },
  {
   "cell_type": "markdown",
   "metadata": {},
   "source": [
    "# variable names\n",
    "1. Avoid keywords - if, else, elif\n",
    "2. Don't override inbuilt functions\n",
    "3. Cannot start with number\n",
    "4. Cannot use\n",
    "5.  special sign except _\n",
    "6. snake case\n",
    "\n",
    "Good practice\n",
    "1. snake_case\n",
    "2. Descriptive (but short)\n",
    "3. Constant_case"
   ]
  }
 ],
 "metadata": {
  "kernelspec": {
   "display_name": "Python 3",
   "language": "python",
   "name": "python3"
  },
  "language_info": {
   "codemirror_mode": {
    "name": "ipython",
    "version": 3
   },
   "file_extension": ".py",
   "mimetype": "text/x-python",
   "name": "python",
   "nbconvert_exporter": "python",
   "pygments_lexer": "ipython3",
   "version": "3.13.2"
  }
 },
 "nbformat": 4,
 "nbformat_minor": 2
}
