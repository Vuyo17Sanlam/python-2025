{
 "cells": [
  {
   "cell_type": "markdown",
   "metadata": {},
   "source": [
    "Instance method -> self ( always )"
   ]
  },
  {
   "cell_type": "markdown",
   "metadata": {},
   "source": [
    "**Encapsulation** - wrapping or containing instance variables + instance methods (data and logic) -> Container (Class)\n",
    "Access to data"
   ]
  },
  {
   "cell_type": "markdown",
   "metadata": {},
   "source": [
    "**Abstraction** - you don't have to worry about the complexity of something because it hidden\n",
    "Definition -  is a fundamental principle in programming and software design that involves hiding complex implementation details and exposing only the essential features of an object or system."
   ]
  },
  {
   "cell_type": "markdown",
   "metadata": {},
   "source": [
    "**Inheritance** - Inheritance is a fundamental concept in OOP that allows a class (child class) to inherit properties and methods from another class (parent class). It promotes code reuse, reduces redundancy, and helps organize code efficiently.\n",
    "\n"
   ]
  },
  {
   "cell_type": "markdown",
   "metadata": {},
   "source": [
    "**Class Variable** - for all the instances value remains the same\n",
    "instance varible - for each instance value is different"
   ]
  },
  {
   "cell_type": "markdown",
   "metadata": {},
   "source": [
    "1. @staticmethod - behind the scenes its a High order functions\n",
    "2. @classmethod\n",
    "\n",
    "@ -> Decorator\n",
    "\n",
    "## **static method**\n",
    "- If you modifying or want access to self than use instance method\n",
    "- if you want to do some calculations than use static method\n",
    "- you can acess the static method wihtout an object being created\n",
    "- -> A static method is a method that belongs to a class but does not operate on an instance (self) or class (cls). It behaves like a regular function but is grouped inside a class for logical organization."
   ]
  },
  {
   "cell_type": "markdown",
   "metadata": {},
   "source": [
    "## **Class method**\n",
    "- if you want to modify the class varibles\n",
    "- -> A class method is a method that operates on the class itself rather than on an instance of the class. It is defined using the @classmethod decorator and takes cls as its first parameter instead of self."
   ]
  },
  {
   "cell_type": "code",
   "execution_count": null,
   "metadata": {},
   "outputs": [],
   "source": [
    "class Animal: #base/ Parent\n",
    "    def __init__ (self, name):\n",
    "        self.name = name\n",
    "    def speak(self):\n",
    "        return 'Some sound'\n",
    "\n",
    "# child class\n",
    "class Dog(Animal): # Dog inherits from Animal\n",
    "    def __init__ (self, name, speed):\n",
    "        super().__init__(name) # super() -> Animal (takes care of name)\n",
    "        self.speed = speed\n",
    "    def speak(self): # method overriding: Functionality of Base class is overridden\n",
    "        return \"woof woof\"\n",
    "    def run(self):\n",
    "        return \"wags tails!\"\n",
    "\n",
    "toby = Animal('toby')\n",
    "maxy = Dog('maxy', 20) # maxy has 2 methods\n",
    "maxy.speak()\n"
   ]
  }
 ],
 "metadata": {
  "kernelspec": {
   "display_name": "Python 3",
   "language": "python",
   "name": "python3"
  },
  "language_info": {
   "codemirror_mode": {
    "name": "ipython",
    "version": 3
   },
   "file_extension": ".py",
   "mimetype": "text/x-python",
   "name": "python",
   "nbconvert_exporter": "python",
   "pygments_lexer": "ipython3",
   "version": "3.13.2"
  }
 },
 "nbformat": 4,
 "nbformat_minor": 2
}
