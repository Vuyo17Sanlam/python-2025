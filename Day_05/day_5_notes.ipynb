{
 "cells": [
  {
   "cell_type": "markdown",
   "metadata": {},
   "source": [
    "# Numeric Separators\n",
    "```py\n",
    "x = 10_000_00\n",
    "print(x)\n",
    "```\n",
    "Numeric Separators improves readability.\n",
    "\n",
    "```py\n",
    "y = 5, 600 # this is not numeric separator but creates a tuple\n",
    "print(y) # output: (5, 600)\n",
    "```"
   ]
  },
  {
   "cell_type": "markdown",
   "metadata": {},
   "source": [
    "# For loop with list\n",
    "1. for with index\n",
    "2. Simple for loop\n",
    "\n",
    "```py\n",
    "# use of simple for loop\n",
    "powers = [90, 80, 50, 65]\n",
    "for power in powers:\n",
    "    print(power)\n",
    "# Good for the DX to use power rather then use of \"i\". \n",
    "```\n"
   ]
  },
  {
   "cell_type": "markdown",
   "metadata": {},
   "source": [
    "When to choose **for loop with index** and **simple for loop**\n",
    "\n",
    "- **for with index** - When you want to access the index and value of an element\n",
    "- **Simple for loop** - Only when you need value"
   ]
  },
  {
   "cell_type": "markdown",
   "metadata": {},
   "source": [
    "# multi_line strings\n",
    "\n",
    "```py\n",
    "msg = \"Hey \\n you\" # \\n is called the new line character\n",
    "```\n",
    "or you can use\n",
    "\n",
    "```py\n",
    "msg = \"\"\"This is cool\n",
    " every one \"\"\" \n",
    "```\n",
    "The reason why we do the triple quotation (Multi line String) is for the DX and readability."
   ]
  },
  {
   "cell_type": "markdown",
   "metadata": {},
   "source": [
    "# Inbuilt function\n",
    "- sum()\n",
    "- len()\n",
    "\n",
    "```py\n",
    "marks = [90, 80, 40, 70]\n",
    "print(sum(marks))\n",
    "```\n",
    "\n",
    "> total = 0 is called initializatin"
   ]
  },
  {
   "cell_type": "markdown",
   "metadata": {},
   "source": [
    "# 5 pillars of Code Quality\n",
    "- **Readability**\n",
    "  - 75% Reading code\n",
    "  - Code communicate idea to other devs\n",
    "  - long maintainability\n",
    "- **Mainitainability** ⬇️ - code debt ⬆️. (dark alley: only having one person who can edit the code)\n",
    "  - Modular\n",
    "  - Scalable\n",
    "- **Extensibility** - adding feature must easy\n",
    "  - 1. Camera - Change lens\n",
    "- **Testability** - easily testable\n",
    "- **Performance**\n",
    "  - Don't sacrifice Readability for Performance\n",
    "\n",
    "\n",
    "# Code Debt\n",
    "Promise you make that I will make the code better tomorrow, But tomorrow comes.\n",
    "\n",
    "Startups = code debts ⬆️ and Time ⬇️ (Due to change in requirements) Idea ⬆️\n"
   ]
  },
  {
   "cell_type": "markdown",
   "metadata": {},
   "source": [
    "# transforming data types\n",
    "\n",
    "## `Join()`\n",
    "changes List to string\n",
    "\n",
    "```py\n",
    "fruits = ['🍌', '🍍', '🍋', '🍊', '🍉', '🍇']\n",
    "','.join(fruits)\n",
    "# output: '🍌, 🍍, 🍋, 🍊, 🍉, 🍇'\n",
    "```\n",
    "\n",
    "## `Split()`\n",
    "Changes String to List\n",
    "\n",
    "```py\n",
    "ice_cream = \"mint|chocolate|vanilla\"\n",
    "ice_cream.split('|')\n",
    "# output: ['mint', 'chocolate', 'vanilla']\n",
    "```\n"
   ]
  }
 ],
 "metadata": {
  "kernelspec": {
   "display_name": "Python 3",
   "language": "python",
   "name": "python3"
  },
  "language_info": {
   "codemirror_mode": {
    "name": "ipython",
    "version": 3
   },
   "file_extension": ".py",
   "mimetype": "text/x-python",
   "name": "python",
   "nbconvert_exporter": "python",
   "pygments_lexer": "ipython3",
   "version": "3.13.2"
  }
 },
 "nbformat": 4,
 "nbformat_minor": 2
}
