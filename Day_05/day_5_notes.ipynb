{
 "cells": [
  {
   "cell_type": "markdown",
   "metadata": {},
   "source": [
    "# Numeric Separators\n",
    "```py\n",
    "x = 10_000_00\n",
    "print(x)\n",
    "```\n",
    "Numeric Separators improves readability.\n",
    "\n",
    "```py\n",
    "y = 5, 600 # this is not numeric separator but creates a tuple\n",
    "print(y) # output: (5, 600)\n",
    "```"
   ]
  },
  {
   "cell_type": "markdown",
   "metadata": {},
   "source": [
    "# For loop with list\n",
    "1. for with index\n",
    "2. Simple for loop\n",
    "\n",
    "```py\n",
    "# use of simple for loop\n",
    "powers = [90, 80, 50, 65]\n",
    "for power in powers:\n",
    "    print(power)\n",
    "# Good for the DX to use power rather then use of \"i\". \n",
    "```\n"
   ]
  },
  {
   "cell_type": "markdown",
   "metadata": {},
   "source": [
    "When to choose **for loop with index** and **simple for loop**\n",
    "\n",
    "- **for with index** - When you want to access the index and value of an element\n",
    "- **Simple for loop** - Only when you need value"
   ]
  }
 ],
 "metadata": {
  "kernelspec": {
   "display_name": "Python 3",
   "language": "python",
   "name": "python3"
  },
  "language_info": {
   "codemirror_mode": {
    "name": "ipython",
    "version": 3
   },
   "file_extension": ".py",
   "mimetype": "text/x-python",
   "name": "python",
   "nbconvert_exporter": "python",
   "pygments_lexer": "ipython3",
   "version": "3.13.2"
  }
 },
 "nbformat": 4,
 "nbformat_minor": 2
}
