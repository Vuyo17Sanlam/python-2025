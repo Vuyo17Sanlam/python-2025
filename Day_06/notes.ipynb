{
 "cells": [
  {
   "cell_type": "markdown",
   "metadata": {},
   "source": [
    "Falsy:\n",
    "If a value converts to falsy when using the bool operator\n",
    "\n",
    "1. None\n",
    "2. 0\n",
    "3. []\n",
    "4. {}\n",
    "5. ()\n",
    "6. set()\n",
    "7. False\n",
    "   \n",
    "\n",
    "Truthy - If it is not on the above falsy table"
   ]
  },
  {
   "cell_type": "markdown",
   "metadata": {},
   "source": [
    "# Ternary Operator\n",
    "\n",
    "```py\n",
    "\"Eligible for driving test\" if age >= 18 else \"Come after few years\"\n",
    "```\n",
    "> S1 if condition else S2"
   ]
  }
 ],
 "metadata": {
  "language_info": {
   "name": "python"
  }
 },
 "nbformat": 4,
 "nbformat_minor": 2
}
