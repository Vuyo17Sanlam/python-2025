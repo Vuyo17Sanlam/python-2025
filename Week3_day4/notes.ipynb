{
 "cells": [
  {
   "cell_type": "markdown",
   "metadata": {},
   "source": [
    "## Access modifies\n",
    "- private - accessable in base but not in the child class (use double underscore)\n",
    "- protected accessable in both base and child class (use single double underscore)"
   ]
  },
  {
   "cell_type": "code",
   "execution_count": 6,
   "metadata": {},
   "outputs": [
    {
     "name": "stdout",
     "output_type": "stream",
     "text": [
      "Woof Woof!! 🐕\n"
     ]
    }
   ],
   "source": [
    "class Animal:\n",
    "    def __init__(self, name):\n",
    "        self.__name = name # the double underscore makes it a private variable\n",
    "\n",
    "    def speak(self):\n",
    "        return f\"Some sound\"\n",
    "\n",
    "\n",
    "class Dog(Animal):\n",
    "    def __init__(self, name, speed):\n",
    "        super().__init__(name) # super() -> Animal (takes care of name)\n",
    "        self.speed = speed\n",
    "\n",
    "    def speak(self):\n",
    "        return \"Woof Woof!! 🐕\"\n",
    "\n",
    "    def run(self):\n",
    "        return \"🐶 wags tails!! 🐕\"\n",
    "\n",
    "    def speed_bonus(self):\n",
    "        return f\"Running at {self.speed* 2}Km/hr\"\n",
    "\n",
    "\n",
    "toby = Animal(\"toby\") # speak\n",
    "maxy = Dog(\"maxy\", 20) # speak, run\n",
    "\n",
    "\n",
    "# print(toby.__name)\n",
    "print(maxy.speak())"
   ]
  },
  {
   "cell_type": "code",
   "execution_count": 8,
   "metadata": {},
   "outputs": [
    {
     "name": "stdout",
     "output_type": "stream",
     "text": [
      "This account belongs to Chleo Smith and has balance of R100,000.00\n",
      "This account belongs to Chleo Smith and has balance of R100,000.00\n",
      "CheckingAccount 123, 'Chleo Smith'\n",
      "200000\n"
     ]
    }
   ],
   "source": [
    "class Bank:\n",
    "    # Class variable\n",
    "    interest_rate = 0.02\n",
    "    no_of_accounts = 0\n",
    "\n",
    "    def __init__(self, acc_no, name, balance):\n",
    "        self.acc_no = acc_no\n",
    "        self.name = name\n",
    "        self.balance = balance  # int\n",
    "        Bank.no_of_accounts += 1\n",
    "\n",
    "    def display_balance(self):\n",
    "        return f\"Your balance is: R{self.balance:,.2f}\"\n",
    "\n",
    "    # Early return\n",
    "    def withdraw(self, amount):\n",
    "        if amount <= 0:\n",
    "            return \"Invalid amount\"\n",
    "\n",
    "        if amount > self.balance:\n",
    "            return f\"Insufficient funds. {self.display_balance()}\"\n",
    "\n",
    "        self.balance -= amount\n",
    "        return f\"Success. {self.display_balance()}\"\n",
    "\n",
    "    def deposit(self, amount):\n",
    "        if amount <= 0:\n",
    "            return \"Invalid amount\"\n",
    "\n",
    "        if amount > 0:\n",
    "            self.balance += amount\n",
    "            return f\"Successfully deposited. {self.display_balance()}\"\n",
    "\n",
    "    def apply_interest(self):\n",
    "        self.balance += self.interest_rate * self.balance\n",
    "        return f\"Success. {self.display_balance()}\"\n",
    "\n",
    "    @classmethod\n",
    "    def update_interest_rate(cls, new_rate):\n",
    "        if new_rate <= 0 or new_rate > 100:\n",
    "            return \"Invalid interest rate\"\n",
    "\n",
    "        cls.interest_rate = new_rate / 100\n",
    "        return f\"Success. The new interest rate is {new_rate}%\"\n",
    "\n",
    "    @staticmethod\n",
    "    def get_total_no_accounts():\n",
    "        return f\"In total we have {Bank.no_of_accounts} accounts\"\n",
    "\n",
    "\n",
    "class SavingsAccount(Bank):\n",
    "    interest_rate = 0.05\n",
    "\n",
    "    def __str__(self):\n",
    "        '''Human readability UX'''\n",
    "        return f\"This account belongs to {self.name} and has balance of R{self.balance:,.2f}\"\n",
    "\n",
    "    def __repr__(self):\n",
    "        '''DX ⬆️'''\n",
    "        return f\"CheckingAccount {self.acc_no}, '{self.name}'\"\n",
    "\n",
    "    def __add__(self, other):\n",
    "        return self.balance + other.balance\n",
    "\n",
    "\n",
    "\n",
    "chleo = SavingsAccount(123, \"Chleo Smith\", 100_000)\n",
    "anita = SavingsAccount(123, \"Chleo Smith\", 100_000)\n",
    "\n",
    "print(chleo) # prints out an SavingsAccount object\n",
    "\n",
    "print(chleo.__str__())  # prints out an SavingsAccount object\n",
    "print(repr(chleo)) # used for debuging\n",
    "print(chleo + anita)"
   ]
  },
  {
   "cell_type": "markdown",
   "metadata": {},
   "source": [
    "Magic Methods:\n",
    "1. __str__,\n",
    "2. __repr__\n",
    "3. __add__: if you don't mention it will return a TypeError: unsupported operand type(s) for +: 'SavingsAccount' and 'SavingsAccount'\n",
    "- Don't use dunder methods inside list \n",
    "- The implementation of dunder methoda can change so rather not use them."
   ]
  }
 ],
 "metadata": {
  "kernelspec": {
   "display_name": "Python 3",
   "language": "python",
   "name": "python3"
  },
  "language_info": {
   "codemirror_mode": {
    "name": "ipython",
    "version": 3
   },
   "file_extension": ".py",
   "mimetype": "text/x-python",
   "name": "python",
   "nbconvert_exporter": "python",
   "pygments_lexer": "ipython3",
   "version": "3.13.2"
  }
 },
 "nbformat": 4,
 "nbformat_minor": 2
}
