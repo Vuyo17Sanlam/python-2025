{
 "cells": [
  {
   "cell_type": "code",
   "execution_count": null,
   "metadata": {},
   "outputs": [],
   "source": [
    "def math_divide(n1, n2):\n",
    "    try:\n",
    "        result = n1 / n2\n",
    "        print(result)\n",
    "    except: # catches all different types of error\n",
    "        print(\"you cannot divide by zero!\")\n",
    "\n",
    "math_divide(10, 4)\n"
   ]
  },
  {
   "cell_type": "code",
   "execution_count": null,
   "metadata": {},
   "outputs": [
    {
     "name": "stdout",
     "output_type": "stream",
     "text": [
      "2.5\n",
      "Division was successful\n",
      "Operation Done\n"
     ]
    }
   ],
   "source": [
    "def math_divide(n1, n2):\n",
    "    try:\n",
    "        result = n1/n2\n",
    "        print(result)\n",
    "    except ZeroDivisionError:\n",
    "        print(\"you cannot divide by zero!\")\n",
    "    else:\n",
    "        print(\"Division was successful\") #  go to the else keyword if there is no exception\n",
    "    finally:\n",
    "        print(\"Operation Done\")\n",
    "\n",
    "math_divide(10, 4)\n",
    "#math_divide(10, 0)\n"
   ]
  },
  {
   "cell_type": "markdown",
   "metadata": {},
   "source": [
    "### Business Logical error\n",
    "`raise` -> Intentionally throwing errors - Because it's against business logical"
   ]
  },
  {
   "cell_type": "code",
   "execution_count": null,
   "metadata": {},
   "outputs": [
    {
     "name": "stdout",
     "output_type": "stream",
     "text": [
      "2005\n"
     ]
    },
    {
     "ename": "ValueError",
     "evalue": "Simply",
     "output_type": "error",
     "traceback": [
      "\u001b[1;31m---------------------------------------------------------------------------\u001b[0m",
      "\u001b[1;31mValueError\u001b[0m                                Traceback (most recent call last)",
      "Cell \u001b[1;32mIn[14], line 16\u001b[0m\n\u001b[0;32m     13\u001b[0m         \u001b[38;5;28mprint\u001b[39m(\u001b[38;5;124m\"\u001b[39m\u001b[38;5;124mInvalid year: should be an integer\u001b[39m\u001b[38;5;124m\"\u001b[39m, err)\n\u001b[0;32m     15\u001b[0m calculate_age()\n\u001b[1;32m---> 16\u001b[0m \u001b[38;5;28;01mraise\u001b[39;00m \u001b[38;5;167;01mValueError\u001b[39;00m(\u001b[38;5;124m\"\u001b[39m\u001b[38;5;124mSimply\u001b[39m\u001b[38;5;124m\"\u001b[39m)\n\u001b[0;32m     18\u001b[0m \u001b[38;5;66;03m# Task 1.1\u001b[39;00m\n\u001b[0;32m     19\u001b[0m \u001b[38;5;66;03m# Please tell me your year of birth 2000\u001b[39;00m\n\u001b[0;32m     20\u001b[0m \u001b[38;5;66;03m# Your age is 25\u001b[39;00m\n\u001b[1;32m   (...)\u001b[0m\n\u001b[0;32m     23\u001b[0m \u001b[38;5;66;03m# Task 1.2\u001b[39;00m\n\u001b[0;32m     24\u001b[0m \u001b[38;5;66;03m# Handling Error\u001b[39;00m\n",
      "\u001b[1;31mValueError\u001b[0m: Simply"
     ]
    }
   ],
   "source": [
    "from datetime import datetime\n",
    "\n",
    "def calculate_age():\n",
    "    try:\n",
    "        birth_year = int(input(\"what is your birth year: \"))\n",
    "        if birth_year > datetime.now().year:\n",
    "            raise ValueError(\"Your not flash to be from the future🚀\")\n",
    "        if birth_year < 0:\n",
    "            raise ValueError(\"Year cannot be negative\")\n",
    "        age = datetime.now().year - birth_year\n",
    "        print(age)\n",
    "    except ValueError as err: # this is would runtime error, the error where its\n",
    "        print(\"Invalid:\", err)\n",
    "    except Exception as err:\n",
    "        # Catch all errors\n",
    "        print(f'Something went wrong: {err}')\n",
    "\n",
    "calculate_age()\n",
    "\n",
    "# Task 1.1\n",
    "# Please tell me your year of birth 2000\n",
    "# Your age is 25\n",
    "\n",
    "\n",
    "# Task 1.2\n",
    "# Handling Error\n"
   ]
  },
  {
   "cell_type": "markdown",
   "metadata": {},
   "source": [
    "## types of errors \n",
    "syntax\n",
    "runtime\n",
    "logical"
   ]
  },
  {
   "cell_type": "code",
   "execution_count": null,
   "metadata": {},
   "outputs": [],
   "source": [
    "# create you own error class\n",
    "# Exception -> Base class of all errors\n",
    "class NegativeNumberError(Exception):\n",
    "    def __init__(self, value):\n",
    "        self.value = value\n",
    "        self.message = 'Negative numbers are not allowed'\n",
    "        super().__init__(self.message)\n",
    "\n",
    "    def only_positive_num():\n",
    "        try:\n",
    "            x = -10\n",
    "            if x < 0:\n",
    "                raise NegativeNumberError(x)\n",
    "        except NegativeNumberError as err:\n",
    "            print(\"invalid:\", err)\n"
   ]
  }
 ],
 "metadata": {
  "kernelspec": {
   "display_name": "Python 3",
   "language": "python",
   "name": "python3"
  },
  "language_info": {
   "codemirror_mode": {
    "name": "ipython",
    "version": 3
   },
   "file_extension": ".py",
   "mimetype": "text/x-python",
   "name": "python",
   "nbconvert_exporter": "python",
   "pygments_lexer": "ipython3",
   "version": "3.13.2"
  }
 },
 "nbformat": 4,
 "nbformat_minor": 2
}
