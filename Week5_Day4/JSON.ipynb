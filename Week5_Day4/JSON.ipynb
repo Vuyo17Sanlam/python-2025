{
 "cells": [
  {
   "cell_type": "code",
   "execution_count": 4,
   "metadata": {},
   "outputs": [],
   "source": [
    "data = {\n",
    "    \"employees\": [\n",
    "        {\"name\": \"John\", \"age\": 30, \"department\": \"Sales\"},\n",
    "        {\"name\": \"Bob\", \"age\": 25, \"department\": \"Marketing\"}\n",
    "    ]\n",
    "}"
   ]
  },
  {
   "cell_type": "code",
   "execution_count": 5,
   "metadata": {},
   "outputs": [
    {
     "name": "stdout",
     "output_type": "stream",
     "text": [
      "<class 'dict'>\n",
      "30\n"
     ]
    }
   ],
   "source": [
    "print(type(data))\n",
    "print(data[\"employees\"][0][\"age\"])"
   ]
  },
  {
   "cell_type": "code",
   "execution_count": null,
   "metadata": {},
   "outputs": [],
   "source": [
    "import json\n",
    "# JavaScript Object Notation\n",
    "# json.dumps() - convert a Python object into a JSON string\n",
    "# json.loads() - convert a JSON string into a Python object"
   ]
  },
  {
   "cell_type": "code",
   "execution_count": 8,
   "metadata": {},
   "outputs": [
    {
     "name": "stdout",
     "output_type": "stream",
     "text": [
      "{\"employees\": [{\"name\": \"John\", \"age\": 30, \"department\": \"Sales\"}, {\"name\": \"Bob\", \"age\": 25, \"department\": \"Marketing\"}]}\n",
      "<class 'str'>\n"
     ]
    }
   ],
   "source": [
    "data_json = json.dumps(data)\n",
    "print(data_json)\n",
    "print(type(data_json))"
   ]
  },
  {
   "cell_type": "code",
   "execution_count": 10,
   "metadata": {},
   "outputs": [],
   "source": [
    "# this gives an error because data_json is a string and not a dictionary\n",
    "# print(data_json[\"employees\"][0][\"age\"])"
   ]
  },
  {
   "cell_type": "markdown",
   "metadata": {},
   "source": [
    "## Summary\n",
    "### Invalid JSON\n",
    "- No single quotes\n",
    "- trailing commas\n",
    "- No functions are allowed in JSON\n",
    "- it converts boolean value to lower case."
   ]
  },
  {
   "cell_type": "code",
   "execution_count": null,
   "metadata": {},
   "outputs": [
    {
     "data": {
      "text/plain": [
       "6"
      ]
     },
     "execution_count": 12,
     "metadata": {},
     "output_type": "execute_result"
    }
   ],
   "source": [
    "def add(n):\n",
    "    return n+1\n",
    "data = {\n",
    "    \"employees\": [\n",
    "        {\"name\": \"John\", \"age\": 30, \"department\": \"Sales\"},\n",
    "        {\"name\": \"Bob\", \"age\": 25, \"department\": \"Marketing\"}\n",
    "    ],\n",
    "    \"fun\": add\n",
    "}\n",
    "\n",
    "# function are not allowed in JSON\n",
    "\n",
    "data['fun'](5)"
   ]
  },
  {
   "cell_type": "markdown",
   "metadata": {},
   "source": [
    "- In java it gets converted to HashMap\n",
    "- In python it gets converted to Dict\n",
    "- Json is the medium of data transfer\n",
    "- before JSON there was XML\n",
    "1. Universal Language\n",
    "2. One backend can talk to multiple frontens\n",
    "3. mix of B.E e.g 20% GO and 80% Flask (Minor service, monolithic)\n",
    "4. Loose Coupling.\n"
   ]
  },
  {
   "cell_type": "code",
   "execution_count": null,
   "metadata": {},
   "outputs": [],
   "source": [
    "data_student = \"\"\"\n",
    "{\n",
    "    \"name\": \"Jamie\",\n",
    "    \"gender\": \"Female\"\n",
    "}\n",
    "\n",
    "\n",
    "\"\"\""
   ]
  },
  {
   "cell_type": "code",
   "execution_count": null,
   "metadata": {},
   "outputs": [
    {
     "name": "stdout",
     "output_type": "stream",
     "text": [
      "{'name': 'Jamie', 'gender': 'Female'}\n"
     ]
    }
   ],
   "source": [
    "student = json.loads(data_student)\n",
    "print(student)\n",
    "print(student, type[student])"
   ]
  },
  {
   "cell_type": "code",
   "execution_count": 18,
   "metadata": {},
   "outputs": [],
   "source": [
    "bank_data = \"\"\"\n",
    "[\n",
    "    {\n",
    "        \"id\": 1,\n",
    "        \"name\": \"John Doe\",\n",
    "        \"email\": \"johndoe@example.com\",\n",
    "        \"isActive\": true,\n",
    "        \"balance\": 150.75\n",
    "    },\n",
    "    {\n",
    "        \"id\": 2,\n",
    "        \"name\": \"Jane Smith\",\n",
    "        \"email\": \"janesmith@example.com\",\n",
    "        \"isActive\": false,\n",
    "        \"balance\": 500.50\n",
    "    },\n",
    "    {\n",
    "        \"id\": 3,\n",
    "        \"name\": \"Emily Jones\",\n",
    "        \"email\": \"emilyjones@example.com\",\n",
    "        \"isActive\": true,\n",
    "        \"balance\": 0.00\n",
    "    }\n",
    "]\n",
    "\"\"\"\n"
   ]
  },
  {
   "cell_type": "markdown",
   "metadata": {},
   "source": [
    "Task 1.1 (normal for loop)\n",
    "All Active user's balance should increase by 10%\n",
    "Final Output should be JSON format"
   ]
  },
  {
   "cell_type": "code",
   "execution_count": 23,
   "metadata": {},
   "outputs": [
    {
     "name": "stdout",
     "output_type": "stream",
     "text": [
      "[\n",
      "  {\n",
      "    \"id\": 1,\n",
      "    \"name\": \"John Doe\",\n",
      "    \"email\": \"johndoe@example.com\",\n",
      "    \"isActive\": true,\n",
      "    \"balance\": 165.825\n",
      "  },\n",
      "  {\n",
      "    \"id\": 2,\n",
      "    \"name\": \"Jane Smith\",\n",
      "    \"email\": \"janesmith@example.com\",\n",
      "    \"isActive\": false,\n",
      "    \"balance\": 550.55\n",
      "  },\n",
      "  {\n",
      "    \"id\": 3,\n",
      "    \"name\": \"Emily Jones\",\n",
      "    \"email\": \"emilyjones@example.com\",\n",
      "    \"isActive\": true,\n",
      "    \"balance\": 0.0\n",
      "  }\n",
      "]\n"
     ]
    }
   ],
   "source": [
    "bank_data_dict = json.loads(bank_data)\n",
    "for info in bank_data_dict:\n",
    "    info[\"balance\"] = info[\"balance\"] + info[\"balance\"] * 0.1\n",
    "\n",
    "bank_data_json = json.dumps(bank_data_dict, indent=2)\n",
    "print(bank_data_json)"
   ]
  },
  {
   "cell_type": "code",
   "execution_count": null,
   "metadata": {},
   "outputs": [
    {
     "name": "stdout",
     "output_type": "stream",
     "text": [
      "[\n",
      "  {\n",
      "    \"id\": 1,\n",
      "    \"name\": \"John Doe\",\n",
      "    \"email\": \"johndoe@example.com\",\n",
      "    \"isActive\": true,\n",
      "    \"balance\": 165.82500000000002\n",
      "  },\n",
      "  {\n",
      "    \"id\": 2,\n",
      "    \"name\": \"Jane Smith\",\n",
      "    \"email\": \"janesmith@example.com\",\n",
      "    \"isActive\": false,\n",
      "    \"balance\": 500.5\n",
      "  },\n",
      "  {\n",
      "    \"id\": 3,\n",
      "    \"name\": \"Emily Jones\",\n",
      "    \"email\": \"emilyjones@example.com\",\n",
      "    \"isActive\": true,\n",
      "    \"balance\": 0.0\n",
      "  }\n",
      "]\n"
     ]
    }
   ],
   "source": [
    "bank_data_dict = json.loads(bank_data)\n",
    "\n",
    "def add_balance(bank_data):\n",
    "    bank_data_dict1 = [\n",
    "        {**info, \"balance\": info[\"balance\"] * 1.1}\n",
    "        if info[\"isActive\"]\n",
    "        else {**info}\n",
    "        for info in bank_data\n",
    "    ]\n",
    "    bank_data_json = json.dumps(bank_data_dict1, indent=2)\n",
    "    return bank_data_json\n",
    "\n",
    "print( add_balance(bank_data_dict))\n"
   ]
  },
  {
   "cell_type": "markdown",
   "metadata": {},
   "source": [
    "## handling files"
   ]
  },
  {
   "cell_type": "code",
   "execution_count": null,
   "metadata": {},
   "outputs": [],
   "source": [
    "bank_data_dict = json.loads(bank_data)\n",
    "\n",
    "\n",
    "def add_balance(bank_data):\n",
    "    bank_data_dict1 = [\n",
    "        {**info, \"balance\": info[\"balance\"] * 1.1} if info[\"isActive\"] else info\n",
    "        for info in bank_data\n",
    "    ]\n",
    "    return bank_data_dict1\n",
    "\n",
    "\n",
    "updated_accounts = add_balance(bank_data_dict)\n",
    "## make use of a with keyword\n",
    "# with -> close the file\n",
    "with open('./bank_accounts.json', 'w') as file:\n",
    "    # Convert Dict -> JSON & Write to file\n",
    "    json.dump(updated_accounts, file, indent=2)"
   ]
  },
  {
   "cell_type": "code",
   "execution_count": 41,
   "metadata": {},
   "outputs": [
    {
     "name": "stdout",
     "output_type": "stream",
     "text": [
      "[{'balance': 165.82500000000002,\n",
      "  'email': 'johndoe@example.com',\n",
      "  'id': 1,\n",
      "  'isActive': True,\n",
      "  'name': 'John Doe'},\n",
      " {'balance': 500.5,\n",
      "  'email': 'janesmith@example.com',\n",
      "  'id': 2,\n",
      "  'isActive': False,\n",
      "  'name': 'Jane Smith'},\n",
      " {'balance': 0.0,\n",
      "  'email': 'emilyjones@example.com',\n",
      "  'id': 3,\n",
      "  'isActive': True,\n",
      "  'name': 'Emily Jones'}]\n"
     ]
    }
   ],
   "source": [
    "from pprint import pprint\n",
    "with open('./bank_accounts.json', 'r') as file:\n",
    "    # Read from file & Convert JSON -> Dict\n",
    "    data = json.load(file)\n",
    "    pprint(data)"
   ]
  },
  {
   "cell_type": "markdown",
   "metadata": {},
   "source": [
    "## summary\n",
    "Dict -> JSON: dumps, dump(file)\n",
    "JSON -> Dict: loads, load(file)"
   ]
  },
  {
   "cell_type": "markdown",
   "metadata": {},
   "source": [
    "## task\n",
    "\n",
    "Read the json in blog.json and output as bellow in posts_summary.json"
   ]
  },
  {
   "cell_type": "code",
   "execution_count": null,
   "metadata": {},
   "outputs": [
    {
     "name": "stdout",
     "output_type": "stream",
     "text": [
      "{'post_summary': {'author': 'Charlie',\n",
      "                  'number_of_comments': 0,\n",
      "                  'title': 'Web Development Trends'}}\n"
     ]
    }
   ],
   "source": [
    "with open ('./blog_post.json', 'r') as file:\n",
    "   blog_post =  json.load(file)\n",
    "\n",
    "\n",
    "summary = {\n",
    "    \"post_summaries\": [\n",
    "        {\n",
    "            \"title\": post[\"title\"],\n",
    "            \"author\": post[\"author\"],\n",
    "            \"number_of_comments\": len(post[\"comments\"]),\n",
    "        }\n",
    "        for post in blog_post[\"posts\"]\n",
    "    ]\n",
    "}\n",
    "\n",
    "pprint(summary)"
   ]
  }
 ],
 "metadata": {
  "kernelspec": {
   "display_name": ".venv",
   "language": "python",
   "name": "python3"
  },
  "language_info": {
   "codemirror_mode": {
    "name": "ipython",
    "version": 3
   },
   "file_extension": ".py",
   "mimetype": "text/x-python",
   "name": "python",
   "nbconvert_exporter": "python",
   "pygments_lexer": "ipython3",
   "version": "3.13.2"
  }
 },
 "nbformat": 4,
 "nbformat_minor": 2
}
