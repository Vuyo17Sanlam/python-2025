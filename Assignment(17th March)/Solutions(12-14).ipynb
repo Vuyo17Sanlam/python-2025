{
 "cells": [
  {
   "cell_type": "code",
   "execution_count": null,
   "metadata": {},
   "outputs": [
    {
     "name": "stdout",
     "output_type": "stream",
     "text": [
      "[{'title': 'Magical Hieroglyphs and Logograms', 'author': 'Bathilda Bagshot'}]\n"
     ]
    }
   ],
   "source": [
    "# Exercise 12\n",
    "library = [\n",
    "    {\"title\": \"Unfogging the Future\", \"author\": \"Cassandra Vablatsky\"},\n",
    "    {\"title\": \"Magical Hieroglyphs and Logograms\", \"author\": \"Bathilda Bagshot\"}\n",
    "]\n",
    "\n",
    "bagshot_books = [book for book in library if book[\"author\"] == \"Bathilda Bagshot\"]\n",
    "\n",
    "print(bagshot_books)\n"
   ]
  },
  {
   "cell_type": "code",
   "execution_count": null,
   "metadata": {},
   "outputs": [
    {
     "name": "stdout",
     "output_type": "stream",
     "text": [
      "{'Gryffindor': 95, 'Slytherin': 90}\n"
     ]
    }
   ],
   "source": [
    "# Exercise 13\n",
    "\n",
    "house_points = [\n",
    "    {\"house\": \"Gryffindor\", \"points\": 35},\n",
    "    {\"house\": \"Slytherin\", \"points\": 50},\n",
    "    {\"house\": \"Gryffindor\", \"points\": 60},\n",
    "    {\"house\": \"Slytherin\", \"points\": 40},\n",
    "]\n",
    "\n",
    "house_totals = {}\n",
    "\n",
    "for entry in house_points:\n",
    "    house = entry[\"house\"]\n",
    "    points = entry[\"points\"]\n",
    "    house_totals[house] = house_totals.get(house, 0) + points\n",
    "\n",
    "print(house_totals)\n"
   ]
  },
  {
   "cell_type": "code",
   "execution_count": null,
   "metadata": {},
   "outputs": [
    {
     "name": "stdout",
     "output_type": "stream",
     "text": [
      "Norwegian Ridgeback the Dragon says: Roar!\n",
      "Silver-maned the Unicorn says: Neigh!\n"
     ]
    }
   ],
   "source": [
    "# Exercise 14\n",
    "\n",
    "class MagicalCreature:\n",
    "    def __init__(self, name, species):\n",
    "        self.name = name\n",
    "        self.species = species\n",
    "\n",
    "    def sound(self):\n",
    "        pass\n",
    "\n",
    "\n",
    "class Dragon(MagicalCreature):\n",
    "    def __init__(self, name):\n",
    "        super().__init__(name, \"Dragon\")\n",
    "\n",
    "    def sound(self):\n",
    "        print(f\"{self.name} the {self.species} says: Roar!\")\n",
    "\n",
    "\n",
    "class Unicorn(MagicalCreature):\n",
    "    def __init__(self, name):\n",
    "        super().__init__(name, \"Unicorn\")\n",
    "\n",
    "    def sound(self):\n",
    "        print(f\"{self.name} the {self.species} says: Neigh!\")\n",
    "\n",
    "\n",
    "dragon = Dragon(\"Norwegian Ridgeback\")\n",
    "unicorn = Unicorn(\"Silver-maned\")\n",
    "\n",
    "dragon.sound()\n",
    "unicorn.sound()\n"
   ]
  }
 ],
 "metadata": {
  "kernelspec": {
   "display_name": "Python 3",
   "language": "python",
   "name": "python3"
  },
  "language_info": {
   "codemirror_mode": {
    "name": "ipython",
    "version": 3
   },
   "file_extension": ".py",
   "mimetype": "text/x-python",
   "name": "python",
   "nbconvert_exporter": "python",
   "pygments_lexer": "ipython3",
   "version": "3.13.2"
  }
 },
 "nbformat": 4,
 "nbformat_minor": 2
}
