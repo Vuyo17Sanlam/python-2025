{
 "cells": [
  {
   "cell_type": "code",
   "execution_count": 1,
   "metadata": {},
   "outputs": [
    {
     "name": "stdout",
     "output_type": "stream",
     "text": [
      "[{'id': 1, 'name': 'Item 1', 'tags': ['tag1', 'tag2', 'tag4']}, {'id': 2, 'name': 'Item 2', 'tags': ['tag2', 'tag3']}, {'id': 3, 'name': 'Item 3', 'tags': ['tag1', 'tag3', 'tag4']}]\n"
     ]
    }
   ],
   "source": [
    "# Exercise 19\n",
    "data = [\n",
    "    {\"id\": 1, \"name\": \"Item 1\", \"tags\": [\"tag1\", \"tag2\"]},\n",
    "    {\"id\": 2, \"name\": \"Item 2\", \"tags\": [\"tag2\", \"tag3\"]},\n",
    "    {\"id\": 3, \"name\": \"Item 3\", \"tags\": [\"tag1\", \"tag3\"]}\n",
    "]\n",
    "\n",
    "modified_data = [\n",
    "    {**item, \"tags\": item[\"tags\"] + [\"tag4\"] if \"tag1\" in item[\"tags\"] else item[\"tags\"]}\n",
    "    for item in data\n",
    "]\n",
    "\n",
    "print(modified_data)\n"
   ]
  },
  {
   "cell_type": "code",
   "execution_count": 2,
   "metadata": {},
   "outputs": [
    {
     "name": "stdout",
     "output_type": "stream",
     "text": [
      "[{'id': 1, 'priority': 'High', 'completed': False}, {'id': 3, 'priority': 'Medium', 'completed': False}, {'id': 2, 'priority': 'Low', 'completed': True}]\n"
     ]
    }
   ],
   "source": [
    "# Exercise 20\n",
    "tasks = [\n",
    "    {\"id\": 1, \"priority\": \"High\", \"completed\": False},\n",
    "    {\"id\": 2, \"priority\": \"Low\", \"completed\": True},\n",
    "    {\"id\": 3, \"priority\": \"Medium\", \"completed\": False},\n",
    "]\n",
    "\n",
    "\n",
    "priority_order = {\"High\": 0, \"Medium\": 1, \"Low\": 2}\n",
    "\n",
    "\n",
    "sorted_tasks = sorted(\n",
    "    tasks, key=lambda task: (task[\"completed\"], priority_order[task[\"priority\"]])\n",
    ")\n",
    "\n",
    "print(sorted_tasks)\n"
   ]
  }
 ],
 "metadata": {
  "kernelspec": {
   "display_name": "Python 3",
   "language": "python",
   "name": "python3"
  },
  "language_info": {
   "codemirror_mode": {
    "name": "ipython",
    "version": 3
   },
   "file_extension": ".py",
   "mimetype": "text/x-python",
   "name": "python",
   "nbconvert_exporter": "python",
   "pygments_lexer": "ipython3",
   "version": "3.13.2"
  }
 },
 "nbformat": 4,
 "nbformat_minor": 2
}
