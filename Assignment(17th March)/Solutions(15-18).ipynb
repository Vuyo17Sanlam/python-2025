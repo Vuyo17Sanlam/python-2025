{
 "cells": [
  {
   "cell_type": "code",
   "execution_count": 1,
   "metadata": {},
   "outputs": [
    {
     "name": "stdout",
     "output_type": "stream",
     "text": [
      "[{'name': 'Cloak of Invisibility', 'age': 657, 'power': 9.5}, {'name': 'Resurrection Stone', 'age': 800, 'power': 7}, {'name': 'Elder Wand', 'age': 1000, 'power': 10}]\n"
     ]
    }
   ],
   "source": [
    "# Exercise 15\n",
    "artifacts = [\n",
    "    {\"name\": \"Cloak of Invisibility\", \"age\": 657, \"power\": 9.5},\n",
    "    {\"name\": \"Elder Wand\", \"age\": 1000, \"power\": 10},\n",
    "    {\"name\": \"Resurrection Stone\", \"age\": 800, \"power\": 7}\n",
    "]\n",
    "\n",
    "sorted_artifacts = sorted(artifacts, key=lambda artifact: (artifact[\"age\"], artifact[\"power\"]))\n",
    "\n",
    "print(sorted_artifacts)\n"
   ]
  },
  {
   "cell_type": "code",
   "execution_count": 2,
   "metadata": {},
   "outputs": [
    {
     "name": "stdout",
     "output_type": "stream",
     "text": [
      "Albus Dumbledore, the Headmaster of Gryffindor.\n"
     ]
    }
   ],
   "source": [
    "# Exercise 16\n",
    "wizard = {\"name\": \"Albus Dumbledore\", \"title\": \"Headmaster\", \"house\": \"Gryffindor\"}\n",
    "\n",
    "profile = f\"{wizard['name']}, the {wizard['title']} of {wizard['house']}.\"\n",
    "\n",
    "print(profile)\n"
   ]
  },
  {
   "cell_type": "code",
   "execution_count": 3,
   "metadata": {},
   "outputs": [
    {
     "name": "stdout",
     "output_type": "stream",
     "text": [
      "[('Harry', 'Fawkes'), ('Hermione', 'Dobby')]\n"
     ]
    }
   ],
   "source": [
    "# Exercise 17\n",
    "adopters = [(\"Harry\", \"Phoenix\"), (\"Hermione\", \"House Elf\")]\n",
    "creatures = [(\"Fawkes\", \"Phoenix\"), (\"Dobby\", \"House Elf\"), (\"Buckbeak\", \"Hippogriff\")]\n",
    "\n",
    "matches = list(\n",
    "    map(\n",
    "        lambda adopter: (\n",
    "            adopter[0],\n",
    "            next(creature[0] for creature in creatures if creature[1] == adopter[1]),\n",
    "        ),\n",
    "        filter(\n",
    "            lambda adopter: any(creature[1] == adopter[1] for creature in creatures),\n",
    "            adopters,\n",
    "        ),\n",
    "    )\n",
    ")\n",
    "\n",
    "print(matches)\n"
   ]
  },
  {
   "cell_type": "code",
   "execution_count": 4,
   "metadata": {},
   "outputs": [
    {
     "name": "stdout",
     "output_type": "stream",
     "text": [
      "Combining Moonstone and Silver Dust produces a unique potion.\n",
      "Combining Moonstone and Dragon Blood produces a unique potion.\n",
      "Combining Silver Dust and Dragon Blood produces a unique potion.\n"
     ]
    }
   ],
   "source": [
    "# Exercise 18\n",
    "ingredients = [\"Moonstone\", \"Silver Dust\", \"Dragon Blood\"]\n",
    "\n",
    "for i in range(len(ingredients)):\n",
    "    for j in range(i + 1, len(ingredients)):\n",
    "        print(\n",
    "            f\"Combining {ingredients[i]} and {ingredients[j]} produces a unique potion.\"\n",
    "        )\n"
   ]
  }
 ],
 "metadata": {
  "kernelspec": {
   "display_name": "Python 3",
   "language": "python",
   "name": "python3"
  },
  "language_info": {
   "codemirror_mode": {
    "name": "ipython",
    "version": 3
   },
   "file_extension": ".py",
   "mimetype": "text/x-python",
   "name": "python",
   "nbconvert_exporter": "python",
   "pygments_lexer": "ipython3",
   "version": "3.13.2"
  }
 },
 "nbformat": 4,
 "nbformat_minor": 2
}
