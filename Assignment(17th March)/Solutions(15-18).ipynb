{
 "cells": [
  {
   "cell_type": "code",
   "execution_count": null,
   "metadata": {},
   "outputs": [],
   "source": [
    "artifacts = [\n",
    "    {\"name\": \"Cloak of Invisibility\", \"age\": 657, \"power\": 9.5},\n",
    "    {\"name\": \"Elder Wand\", \"age\": 1000, \"power\": 10},\n",
    "    {\"name\": \"Resurrection Stone\", \"age\": 800, \"power\": 7}\n",
    "]\n",
    "\n",
    "sorted_artifacts = sorted(artifacts, key=lambda artifact: (artifact[\"age\"], artifact[\"power\"]))\n",
    "\n",
    "print(sorted_artifacts)\n"
   ]
  },
  {
   "cell_type": "code",
   "execution_count": null,
   "metadata": {},
   "outputs": [],
   "source": [
    "wizard = {\"name\": \"Albus Dumbledore\", \"title\": \"Headmaster\", \"house\": \"Gryffindor\"}\n",
    "\n",
    "profile = f\"{wizard['name']}, the {wizard['title']} of {wizard['house']}.\"\n",
    "\n",
    "print(profile)\n"
   ]
  },
  {
   "cell_type": "code",
   "execution_count": null,
   "metadata": {},
   "outputs": [],
   "source": [
    "adopters = [(\"Harry\", \"Phoenix\"), (\"Hermione\", \"House Elf\")]\n",
    "creatures = [(\"Fawkes\", \"Phoenix\"), (\"Dobby\", \"House Elf\"), (\"Buckbeak\", \"Hippogriff\")]\n",
    "\n",
    "matches = list(\n",
    "    map(\n",
    "        lambda adopter: (\n",
    "            adopter[0],\n",
    "            next(creature[0] for creature in creatures if creature[1] == adopter[1]),\n",
    "        ),\n",
    "        filter(\n",
    "            lambda adopter: any(creature[1] == adopter[1] for creature in creatures),\n",
    "            adopters,\n",
    "        ),\n",
    "    )\n",
    ")\n",
    "\n",
    "print(matches)\n"
   ]
  },
  {
   "cell_type": "code",
   "execution_count": null,
   "metadata": {},
   "outputs": [],
   "source": [
    "ingredients = [\"Moonstone\", \"Silver Dust\", \"Dragon Blood\"]\n",
    "\n",
    "for i in range(len(ingredients)):\n",
    "    for j in range(i + 1, len(ingredients)):\n",
    "        print(\n",
    "            f\"Combining {ingredients[i]} and {ingredients[j]} produces a unique potion.\"\n",
    "        )\n"
   ]
  }
 ],
 "metadata": {
  "kernelspec": {
   "display_name": "Python 3",
   "language": "python",
   "name": "python3"
  },
  "language_info": {
   "name": "python",
   "version": "3.13.2"
  }
 },
 "nbformat": 4,
 "nbformat_minor": 2
}
