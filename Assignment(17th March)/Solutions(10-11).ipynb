{
 "cells": [
  {
   "cell_type": "code",
   "execution_count": null,
   "metadata": {},
   "outputs": [
    {
     "name": "stdout",
     "output_type": "stream",
     "text": [
      "After a duel between Harry and Draco, Harry wins with 40 health points left.\n"
     ]
    }
   ],
   "source": [
    "# Excerse 10\n",
    "class WizardDuel:\n",
    "    def __init__(self, wizard1, wizard2, health1, health2):\n",
    "        self.wizards = {\n",
    "            wizard1: health1,\n",
    "            wizard2: health2\n",
    "        }\n",
    "\n",
    "    def cast_spell(self, wizard, damage):\n",
    "        if wizard in self.wizards:\n",
    "            self.wizards[wizard] = max(0, self.wizards[wizard] - damage)\n",
    "\n",
    "    def get_winner(self):\n",
    "        w1, w2 = self.wizards.keys()\n",
    "        h1, h2 = self.wizards.values()\n",
    "\n",
    "        if h1 == 0 and h2 == 0:\n",
    "            return \"It's a tie!\"\n",
    "        elif h1 == 0:\n",
    "            return f\"After a duel between {w1} and {w2}, {w2} wins with {h2} health points left.\"\n",
    "        elif h2 == 0:\n",
    "            return f\"After a duel between {w1} and {w2}, {w1} wins with {h1} health points left.\"\n",
    "        else:\n",
    "            return \"The duel is still ongoing.\"\n",
    "\n",
    "# Example usage:\n",
    "duel = WizardDuel(\"Harry\", \"Draco\", 50, 40)\n",
    "duel.cast_spell(\"Harry\", 10)\n",
    "duel.cast_spell(\"Draco\", 40)\n",
    "print(duel.get_winner())\n"
   ]
  },
  {
   "cell_type": "code",
   "execution_count": 3,
   "metadata": {},
   "outputs": [
    {
     "name": "stdout",
     "output_type": "stream",
     "text": [
      "Caught PotionError: 'Unicorn Hair' is not a valid ingredient for the Love Potion.\n"
     ]
    }
   ],
   "source": [
    "# Excerse 11\n",
    "class PotionError(Exception):\n",
    "    pass\n",
    "\n",
    "\n",
    "def brew_potion(potion_name, ingredients):\n",
    "    valid_ingredients = {\n",
    "        \"Love Potion\": [\"Rose Petal\", \"Moonstone\", \"Ashwinder Egg\"],\n",
    "        \"Polyjuice Potion\": [\"Lacewing Flies\", \"Leeches\", \"Boomslang Skin\"],\n",
    "    }\n",
    "\n",
    "    if potion_name not in valid_ingredients:\n",
    "        raise PotionError(f\"{potion_name} is not a known potion.\")\n",
    "\n",
    "    for ingredient in ingredients:\n",
    "        if ingredient not in valid_ingredients[potion_name]:\n",
    "            raise PotionError(\n",
    "                f\"'{ingredient}' is not a valid ingredient for the {potion_name}.\"\n",
    "            )\n",
    "\n",
    "    return f\"{potion_name} brewed successfully!\"\n",
    "\n",
    "\n",
    "# Example usage:\n",
    "try:\n",
    "    brew_potion(\"Love Potion\", [\"Rose Petal\", \"Unicorn Hair\"])\n",
    "except PotionError as e:\n",
    "    print(f\"Caught PotionError: {e}\")\n"
   ]
  }
 ],
 "metadata": {
  "kernelspec": {
   "display_name": "Python 3",
   "language": "python",
   "name": "python3"
  },
  "language_info": {
   "codemirror_mode": {
    "name": "ipython",
    "version": 3
   },
   "file_extension": ".py",
   "mimetype": "text/x-python",
   "name": "python",
   "nbconvert_exporter": "python",
   "pygments_lexer": "ipython3",
   "version": "3.13.2"
  }
 },
 "nbformat": 4,
 "nbformat_minor": 2
}
