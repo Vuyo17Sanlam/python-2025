{
 "cells": [
  {
   "cell_type": "code",
   "execution_count": 1,
   "metadata": {},
   "outputs": [
    {
     "name": "stdout",
     "output_type": "stream",
     "text": [
      "index 0 has value 2\n",
      "index 1 has value 4\n",
      "index 2 has value 6\n",
      "index 3 has value 8\n",
      "index 4 has value 10\n"
     ]
    }
   ],
   "source": [
    "# Enumerate\n",
    "marks = [2, 4, 6, 8, 10]\n",
    "for i, mark in enumerate(marks):\n",
    "    print(f\"index {i} has value {mark}\")\n",
    "\n",
    "# enumerate gives us the index and the value of the list/ Tuple\n",
    "# Query Params - q = __"
   ]
  },
  {
   "cell_type": "code",
   "execution_count": 18,
   "metadata": {},
   "outputs": [],
   "source": [
    "\n",
    "import requests\n",
    "import urllib3\n",
    "\n",
    "urllib3.disable_warnings()\n"
   ]
  },
  {
   "cell_type": "code",
   "execution_count": 19,
   "metadata": {},
   "outputs": [
    {
     "name": "stdout",
     "output_type": "stream",
     "text": [
      "The temperature in London is 7.4°C\n"
     ]
    }
   ],
   "source": [
    "API_KEY = 'a29b8e0653c74a73aed84054252403'\n",
    "def get_city_temp(city):\n",
    "    API = f\"https://api.weatherapi.com/v1/current.json?key={API_KEY}&q={city}&aqi=no\"\n",
    "    response = requests.get(API, verify=False)\n",
    "    data = response.json()\n",
    "    return f\"The temperature in {data['location']['name']} is {data['current']['temp_c']}°C\"\n",
    "\n",
    "\n",
    "print(get_city_temp(\"London\"))\n"
   ]
  },
  {
   "cell_type": "code",
   "execution_count": null,
   "metadata": {},
   "outputs": [
    {
     "name": "stdout",
     "output_type": "stream",
     "text": [
      "{'Cape Town': 22.3, 'Delhi': 5.1, 'London': 7.3, 'New York': 4.4, 'Tokyo': 17.1}\n"
     ]
    }
   ],
   "source": [
    "API_KEY = \"a29b8e0653c74a73aed84054252403\" # good pracitice\n",
    "\n",
    "\n",
    "def get_cities_temp(*cities):\n",
    "    return {get_temp(city)[0]: get_temp(city)[1] for city in cities}\n",
    "\n",
    "def get_temp(city):\n",
    "    API = f\"https://api.weatherapi.com/v1/current.json?key={API_KEY}&q={city}&aqi=no\"\n",
    "    response = requests.get(API, verify=False)\n",
    "    data = response.json()\n",
    "    return data[\"location\"][\"name\"], data[\"current\"][\"temp_c\"]\n",
    "\n",
    "\n",
    "print(get_cities_temp(\"Cape Town\", \"Delhi\", \"London\", \"New York\", \"Tokyo\"))\n"
   ]
  }
 ],
 "metadata": {
  "kernelspec": {
   "display_name": ".venv",
   "language": "python",
   "name": "python3"
  },
  "language_info": {
   "codemirror_mode": {
    "name": "ipython",
    "version": 3
   },
   "file_extension": ".py",
   "mimetype": "text/x-python",
   "name": "python",
   "nbconvert_exporter": "python",
   "pygments_lexer": "ipython3",
   "version": "3.13.2"
  }
 },
 "nbformat": 4,
 "nbformat_minor": 2
}
