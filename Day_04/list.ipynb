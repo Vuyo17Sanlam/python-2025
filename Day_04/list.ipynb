{
 "cells": [
  {
   "cell_type": "markdown",
   "metadata": {},
   "source": [
    "# Intro List\n",
    "- Motivation: Holds multiple values\n",
    "- Mutable\n",
    "- Non - primative data types.\n",
    "- Holds multiple values\n",
    "- Same data types (Recommended)\n",
    "- Don't mix data types\n",
    "- Mixing data types allowed (But don't )\n",
    "- Methods \n",
    "  - C -> create\n",
    "  - R -> Read\n",
    "  - U -> update\n",
    "  - D -> Delete: remove() and pop()\n",
    "\n"
   ]
  },
  {
   "cell_type": "code",
   "execution_count": null,
   "metadata": {},
   "outputs": [
    {
     "name": "stdout",
     "output_type": "stream",
     "text": [
      "40\n"
     ]
    }
   ],
   "source": [
    "mark1 = 80\n",
    "mark2 = 90\n",
    "mark3 = 70"
   ]
  },
  {
   "cell_type": "code",
   "execution_count": 14,
   "metadata": {},
   "outputs": [
    {
     "name": "stdout",
     "output_type": "stream",
     "text": [
      "[80, 90, 70] <class 'list'>\n"
     ]
    }
   ],
   "source": [
    "marks = [80, 90, 70]\n",
    "print(marks, type(marks))\n",
    "# in other lanuages its called a array but in python its called a list"
   ]
  },
  {
   "cell_type": "code",
   "execution_count": 17,
   "metadata": {},
   "outputs": [
    {
     "name": "stdout",
     "output_type": "stream",
     "text": [
      "[True, 'abc', 6]\n"
     ]
    }
   ],
   "source": [
    "values = [True, 'abc', 6]\n",
    "print(values)"
   ]
  },
  {
   "cell_type": "markdown",
   "metadata": {},
   "source": [
    "## Index\n",
    "- +ve works\n",
    "- -ve works"
   ]
  },
  {
   "cell_type": "code",
   "execution_count": 19,
   "metadata": {},
   "outputs": [
    {
     "name": "stdout",
     "output_type": "stream",
     "text": [
      "70\n",
      "70\n"
     ]
    }
   ],
   "source": [
    "marks = [80, 90, 70]\n",
    "print(marks[2])\n",
    "print(marks[-1])"
   ]
  },
  {
   "cell_type": "markdown",
   "metadata": {},
   "source": [
    "## slice operator"
   ]
  },
  {
   "cell_type": "code",
   "execution_count": 20,
   "metadata": {},
   "outputs": [
    {
     "name": "stdout",
     "output_type": "stream",
     "text": [
      "[90, 70]\n"
     ]
    }
   ],
   "source": [
    "print(marks[1:3])"
   ]
  },
  {
   "cell_type": "code",
   "execution_count": 21,
   "metadata": {},
   "outputs": [
    {
     "name": "stdout",
     "output_type": "stream",
     "text": [
      "[70, 90, 80]\n"
     ]
    }
   ],
   "source": [
    "# reverse the list\n",
    "print(marks[::-1])"
   ]
  },
  {
   "cell_type": "code",
   "execution_count": 33,
   "metadata": {},
   "outputs": [
    {
     "data": {
      "text/plain": [
       "['🍎', '🍊', '🍓', '🍍', '🥕', '🥒', '🍆', '🥔']"
      ]
     },
     "execution_count": 33,
     "metadata": {},
     "output_type": "execute_result"
    }
   ],
   "source": [
    "fruits = [\"🍎\", \"🍊\", \"🍓\", \"🍍\"]  # list of strings\n",
    "vegetables = [\"🥕\", \"🥒\", \"🍆\", \"🥔\"]\n",
    "fruits + vegetables\n",
    "# For the last line you don't have to print it, it will just show the output"
   ]
  },
  {
   "cell_type": "code",
   "execution_count": 25,
   "metadata": {},
   "outputs": [
    {
     "name": "stdout",
     "output_type": "stream",
     "text": [
      "['🍎', '🍊', '🍓', '🍍', '🍎', '🍊', '🍓', '🍍']\n"
     ]
    }
   ],
   "source": [
    "# repitition operator\n",
    "print(fruits * 2)"
   ]
  },
  {
   "cell_type": "code",
   "execution_count": null,
   "metadata": {},
   "outputs": [
    {
     "data": {
      "text/plain": [
       "4"
      ]
     },
     "execution_count": 26,
     "metadata": {},
     "output_type": "execute_result"
    }
   ],
   "source": [
    "len(fruits)"
   ]
  },
  {
   "cell_type": "code",
   "execution_count": 34,
   "metadata": {},
   "outputs": [
    {
     "name": "stdout",
     "output_type": "stream",
     "text": [
      "['#', '🍊', '🍓', '🍍']\n"
     ]
    }
   ],
   "source": [
    "fruits.remove('🍎')\n",
    "fruits.insert(0, \"#\")\n",
    "print(fruits)"
   ]
  },
  {
   "cell_type": "markdown",
   "metadata": {},
   "source": [
    "# Add something at the end of the list\n",
    "- append() add at the end\n",
    "- insert() add at the middle of list"
   ]
  },
  {
   "cell_type": "code",
   "execution_count": 35,
   "metadata": {},
   "outputs": [
    {
     "data": {
      "text/plain": [
       "[80, 90, 70, 60, 100, 100]"
      ]
     },
     "execution_count": 35,
     "metadata": {},
     "output_type": "execute_result"
    }
   ],
   "source": [
    "marks = [80, 90, 70, 60, 100]\n",
    "marks.append(100)\n",
    "marks"
   ]
  },
  {
   "cell_type": "markdown",
   "metadata": {},
   "source": [
    "## Remove Item"
   ]
  },
  {
   "cell_type": "code",
   "execution_count": 36,
   "metadata": {},
   "outputs": [],
   "source": [
    "averngers = [\"Hulk\", \"Iron man\", \"Black widow\", \"Captain America\", \"Spider man\", \"Thor\"]\n",
    "averngers.pop(2)\n",
    "averngers.remove(\"Hulk\")"
   ]
  },
  {
   "cell_type": "markdown",
   "metadata": {},
   "source": [
    "## Task \n",
    "print each number in sepatate line"
   ]
  },
  {
   "cell_type": "code",
   "execution_count": 37,
   "metadata": {},
   "outputs": [
    {
     "name": "stdout",
     "output_type": "stream",
     "text": [
      "90\n",
      "80\n",
      "100\n",
      "60\n",
      "85\n"
     ]
    }
   ],
   "source": [
    "marks = [90, 80, 100, 60, 85]\n",
    "for i in marks:\n",
    "    print(i)"
   ]
  }
 ],
 "metadata": {
  "kernelspec": {
   "display_name": "Python 3",
   "language": "python",
   "name": "python3"
  },
  "language_info": {
   "codemirror_mode": {
    "name": "ipython",
    "version": 3
   },
   "file_extension": ".py",
   "mimetype": "text/x-python",
   "name": "python",
   "nbconvert_exporter": "python",
   "pygments_lexer": "ipython3",
   "version": "3.13.2"
  }
 },
 "nbformat": 4,
 "nbformat_minor": 2
}
