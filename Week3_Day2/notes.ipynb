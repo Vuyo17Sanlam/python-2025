{
 "cells": [
  {
   "cell_type": "markdown",
   "metadata": {},
   "source": [
    "## Scope of a variable\n",
    "- Lifetime of a variable\n",
    "- Area in which the varible alive (Which line no. to which line no.)\n",
    "```py\n",
    "def simple():\n",
    "    t2  =10\n",
    "print(t2)\n",
    "```\n",
    "-> from this example an error will occur (NameError: name t2 is not defined) ❌\n",
    "-> t2 is in the simple function scope\n",
    "\n",
    "- **Closure: ** Both lexical and local scope"
   ]
  },
  {
   "cell_type": "code",
   "execution_count": null,
   "metadata": {},
   "outputs": [],
   "source": [
    "# case 1\n",
    "price = 100 # is called a lexical scope\n",
    "def get_price():\n",
    "    print(\"The price of the book is: \", price)\n",
    "get_price()\n",
    "# 1. First checks for local 'price' variable\n",
    "# 2. Then goes to outer scope (Lexixal Scope)"
   ]
  },
  {
   "cell_type": "markdown",
   "metadata": {},
   "source": []
  },
  {
   "cell_type": "code",
   "execution_count": 1,
   "metadata": {},
   "outputs": [
    {
     "ename": "UnboundLocalError",
     "evalue": "cannot access local variable 'price' where it is not associated with a value",
     "output_type": "error",
     "traceback": [
      "\u001b[1;31m---------------------------------------------------------------------------\u001b[0m",
      "\u001b[1;31mUnboundLocalError\u001b[0m                         Traceback (most recent call last)",
      "Cell \u001b[1;32mIn[1], line 6\u001b[0m\n\u001b[0;32m      4\u001b[0m     price \u001b[38;5;241m=\u001b[39m \u001b[38;5;241m100\u001b[39m\n\u001b[0;32m      5\u001b[0m     \u001b[38;5;28mprint\u001b[39m(price)\n\u001b[1;32m----> 6\u001b[0m \u001b[43mget_price\u001b[49m\u001b[43m(\u001b[49m\u001b[43m)\u001b[49m\n",
      "Cell \u001b[1;32mIn[1], line 3\u001b[0m, in \u001b[0;36mget_price\u001b[1;34m()\u001b[0m\n\u001b[0;32m      2\u001b[0m \u001b[38;5;28;01mdef\u001b[39;00m\u001b[38;5;250m \u001b[39m\u001b[38;5;21mget_price\u001b[39m():\n\u001b[1;32m----> 3\u001b[0m     \u001b[38;5;28mprint\u001b[39m(\u001b[43mprice\u001b[49m)\n\u001b[0;32m      4\u001b[0m     price \u001b[38;5;241m=\u001b[39m \u001b[38;5;241m100\u001b[39m\n\u001b[0;32m      5\u001b[0m     \u001b[38;5;28mprint\u001b[39m(price)\n",
      "\u001b[1;31mUnboundLocalError\u001b[0m: cannot access local variable 'price' where it is not associated with a value"
     ]
    }
   ],
   "source": [
    "price = 200\n",
    "def get_price():\n",
    "    print(price)\n",
    "    price = 100\n",
    "    print(price)\n",
    "get_price()"
   ]
  },
  {
   "cell_type": "markdown",
   "metadata": {},
   "source": [
    "** 2 phase Execution **\n",
    "- 1. Compilation - Declaration noted. name is noted but not value\n",
    "- 2. Execution - print the value"
   ]
  },
  {
   "cell_type": "markdown",
   "metadata": {},
   "source": [
    "Summary\n",
    "1. Local variable gets prefrerance (shadowing)\n",
    "2. UnboundLocalError -> If you try access before declaration"
   ]
  },
  {
   "cell_type": "code",
   "execution_count": 3,
   "metadata": {},
   "outputs": [
    {
     "name": "stdout",
     "output_type": "stream",
     "text": [
      "abc\n"
     ]
    }
   ],
   "source": [
    "if True:\n",
    "     x = \"abc\"\n",
    "print(x)"
   ]
  },
  {
   "cell_type": "markdown",
   "metadata": {},
   "source": [
    "## First Class Citizens\n",
    "- Functions are treated as first class citizen (value)\n",
    "- Rules:\n",
    "  - 1. Assign to variable\n",
    "  - 2. Pass as argument\n",
    "  - 3. return"
   ]
  },
  {
   "cell_type": "code",
   "execution_count": 5,
   "metadata": {},
   "outputs": [
    {
     "name": "stdout",
     "output_type": "stream",
     "text": [
      "<class 'function'>\n"
     ]
    }
   ],
   "source": [
    "def greet(name):\n",
    "    return name\n",
    "print(type(greet))"
   ]
  },
  {
   "cell_type": "code",
   "execution_count": 9,
   "metadata": {},
   "outputs": [
    {
     "name": "stdout",
     "output_type": "stream",
     "text": [
      "Hi\n"
     ]
    }
   ],
   "source": [
    "def f2():\n",
    "    def f1():\n",
    "        return(\"Hi\")\n",
    "    return f1\n",
    "x = f2()\n",
    "print(x())"
   ]
  },
  {
   "cell_type": "markdown",
   "metadata": {},
   "source": [
    "# Lambda Function\n",
    "- lambda expression/function: Function should be one line\n",
    "- left hand side is your parameter the right side is your return\n",
    "- important points about Lamda function\n",
    "  - Anonymous - nameless function\n",
    "  - One Linear\n",
    "  - Implicit return (automtically)"
   ]
  },
  {
   "cell_type": "code",
   "execution_count": null,
   "metadata": {},
   "outputs": [
    {
     "name": "stdout",
     "output_type": "stream",
     "text": [
      "2\n"
     ]
    }
   ],
   "source": [
    "greet1 = lambda name: f\"Hi, {name}\"\n",
    "greet(\"Jevan\")\n",
    "\n",
    "add1 = lambda n1, n2: n1+n2\n"
   ]
  },
  {
   "cell_type": "code",
   "execution_count": null,
   "metadata": {},
   "outputs": [
    {
     "name": "stdout",
     "output_type": "stream",
     "text": [
      "<map object at 0x000002964E06EE00> [20, 60, 120]\n"
     ]
    }
   ],
   "source": [
    "# map and filter\n",
    "\n",
    "player_stats  = [10, 30, 60]\n",
    "boosted_stats = map(lambda x:x*2, player_stats)\n",
    "print(boosted_stats, list(boosted_stats))\n",
    "# you can write it in one line\n"
   ]
  },
  {
   "cell_type": "markdown",
   "metadata": {},
   "source": [
    "map -> Takes anohter function\n",
    "map and filter are-> Higher order function\n",
    "1. Def - Reuse else where\n",
    "2. Lambda - one time use, concise"
   ]
  },
  {
   "cell_type": "code",
   "execution_count": null,
   "metadata": {},
   "outputs": [
    {
     "name": "stdout",
     "output_type": "stream",
     "text": [
      "[30, 60]\n"
     ]
    }
   ],
   "source": [
    "gt1 = lambda x: x>10 # predicates: function returns boolean\n",
    "result = filter(gt1, [10, 30, 60])\n",
    "print(list(result))"
   ]
  },
  {
   "cell_type": "markdown",
   "metadata": {},
   "source": [
    "When do we use a **Map** or **Filter**\n",
    "> map \n",
    ">\n",
    "> 1. len(input_list) == len(output_list)\n",
    "> 2. Transform data types\n",
    "> 3. Copy the list. the orginal list (input_list) won't be affected\n",
    ">\n",
    "> filter\n",
    "> \n",
    "> 1. len(input_list) >= len(output_list)\n",
    "> 2. input data type == output data_type\n",
    "> 3. Copy the list. the orginal list (input_list) won't be affected\n",
    "\n"
   ]
  },
  {
   "cell_type": "markdown",
   "metadata": {},
   "source": [
    "- all([True, False, True]) takes an iterator and returns a boolean acts like **and**\n",
    "- any([True, False]) takes an iterator and returns a boolean acts like **or**\n"
   ]
  },
  {
   "cell_type": "markdown",
   "metadata": {},
   "source": [
    "# Paradigms (Style of Code)\n",
    "- Functional programming -> Lisp\n",
    "- OOP - Object Oriented Programming\n",
    "- Procedural Programming\n",
    "- Mathematical Programming\n",
    "\n",
    "# Object Oriented Programming\n",
    "- Inspiration nature to solve complex problem\n",
    "- programming abstract\n",
    "- programming constructs into objects\n",
    "\n",
    "\n",
    "### Car (blue print)\n",
    "- wheels\n",
    "- Engine\n",
    "- make\n",
    "- Doors\n"
   ]
  },
  {
   "cell_type": "code",
   "execution_count": null,
   "metadata": {},
   "outputs": [
    {
     "name": "stdout",
     "output_type": "stream",
     "text": [
      "4\n"
     ]
    }
   ],
   "source": [
    "# Car is your blueprint, class -> Data + Logic\n",
    "class Car:\n",
    "    # init method -> called when you create object\n",
    "    def __init__(self, wheels, engine, model, doors):\n",
    "        # instance varible\n",
    "        self.wheels = wheels\n",
    "        self.engine = engine\n",
    "        self.model = model\n",
    "        self.doors = doors  # bmw -> object. self points to the object\n",
    "    # instance method\n",
    "    def horn(self):\n",
    "        return \"Vroom Vroom\"\n",
    "\n",
    "#intance variable - Data\n",
    "# instance methods - Logic\n",
    "\n",
    "# bmw is your object\n",
    "bmw = Car(4, 'v8', 'x5', 4)\n",
    "jeep = Car(4, \"v6\", \"wrangler\", 5)\n",
    "mclaren = Car(4, \"v8\", \"650s\", 2)\n",
    "kia = Car(4, \"v4\", \"Sportage\", 2)\n",
    "print(bmw.wheels)"
   ]
  }
 ],
 "metadata": {
  "kernelspec": {
   "display_name": "Python 3",
   "language": "python",
   "name": "python3"
  },
  "language_info": {
   "codemirror_mode": {
    "name": "ipython",
    "version": 3
   },
   "file_extension": ".py",
   "mimetype": "text/x-python",
   "name": "python",
   "nbconvert_exporter": "python",
   "pygments_lexer": "ipython3",
   "version": "3.13.2"
  }
 },
 "nbformat": 4,
 "nbformat_minor": 2
}
