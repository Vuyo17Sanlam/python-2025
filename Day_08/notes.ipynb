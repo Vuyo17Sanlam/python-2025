{
 "cells": [
  {
   "cell_type": "markdown",
   "metadata": {},
   "source": [
    "# functions\n",
    "\n",
    "> Why functions?\n",
    ">\n",
    "> DRY - Don't Repeat Yourself\n",
    "> Principle. Code Smell\n",
    ">\n",
    "> The point of a function is if you want to change the logic of something you can do it in one place."
   ]
  },
  {
   "cell_type": "code",
   "execution_count": 4,
   "metadata": {},
   "outputs": [
    {
     "name": "stdout",
     "output_type": "stream",
     "text": [
      "4 14\n"
     ]
    }
   ],
   "source": [
    "a = 1\n",
    "b = 3\n",
    "a+b\n",
    "\n",
    "# function declartion / definition - 1 time\n",
    "def add(a, b):\n",
    "    return a + b\n",
    "\n",
    "c1 = add(1, 3)\n",
    "c2 = add(4, 10)\n",
    "print(c1, c2)"
   ]
  }
 ],
 "metadata": {
  "kernelspec": {
   "display_name": "Python 3",
   "language": "python",
   "name": "python3"
  },
  "language_info": {
   "codemirror_mode": {
    "name": "ipython",
    "version": 3
   },
   "file_extension": ".py",
   "mimetype": "text/x-python",
   "name": "python",
   "nbconvert_exporter": "python",
   "pygments_lexer": "ipython3",
   "version": "3.13.2"
  }
 },
 "nbformat": 4,
 "nbformat_minor": 2
}
