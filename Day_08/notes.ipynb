{
 "cells": [
  {
   "cell_type": "markdown",
   "metadata": {},
   "source": [
    "# functions\n",
    "\n",
    "> Why functions?\n",
    ">\n",
    "> DRY - Don't Repeat Yourself\n",
    "> Principle:  Code Smell (a sign that something is wrong) - Something is wrong. Is an intuition for developer that something is going wrong. If a code is repeated that is a code smell.\n",
    ">\n",
    "> The point of a function is if you want to change the logic of something you can do it in one place.\n",
    "> If there is a bug you can fix it in one plac\n",
    ">  adding features is easier.\n",
    "\n",
    "- A function needs to do one thing very well - Single Responsibility principle.\n"
   ]
  },
  {
   "cell_type": "code",
   "execution_count": 6,
   "metadata": {},
   "outputs": [
    {
     "name": "stdout",
     "output_type": "stream",
     "text": [
      "None None\n"
     ]
    }
   ],
   "source": [
    "a = 1\n",
    "b = 3\n",
    "a+b\n",
    "\n",
    "# function declartion / definition - 1 time\n",
    "# add - function name\n",
    "def add(a, b): # a and b are called parameters\n",
    "    c = a+b # these 2 lines are called function body\n",
    "\n",
    "c1 = add(1, 3) # these are called arguements, you are passing the argumnent to the function\n",
    "c2 = add(4, 10)\n",
    "print(c1, c2)"
   ]
  },
  {
   "cell_type": "markdown",
   "metadata": {},
   "source": [
    "**is** and **==**\n",
    "- **is** for address, for non-primatives and None\n",
    "- **==** for values"
   ]
  },
  {
   "cell_type": "markdown",
   "metadata": {},
   "source": [
    "## Function Terms\n",
    "- function Definiton/Declaration\n",
    "- function Body\n",
    "- function Parameters\n",
    "- function Arguments\n",
    "- function Call c = add(4, 5)"
   ]
  },
  {
   "cell_type": "code",
   "execution_count": null,
   "metadata": {},
   "outputs": [
    {
     "name": "stdout",
     "output_type": "stream",
     "text": [
      "None\n"
     ]
    }
   ],
   "source": [
    "def add(a, b):\n",
    "    c  = round(a+b, 2)\n",
    "\n",
    "\n",
    "c1 = add(1, 3) # if there is no return None gets assigned the. The control flow will come out of the function\n",
    "print(c1)"
   ]
  }
 ],
 "metadata": {
  "kernelspec": {
   "display_name": "Python 3",
   "language": "python",
   "name": "python3"
  },
  "language_info": {
   "codemirror_mode": {
    "name": "ipython",
    "version": 3
   },
   "file_extension": ".py",
   "mimetype": "text/x-python",
   "name": "python",
   "nbconvert_exporter": "python",
   "pygments_lexer": "ipython3",
   "version": "3.13.2"
  }
 },
 "nbformat": 4,
 "nbformat_minor": 2
}
