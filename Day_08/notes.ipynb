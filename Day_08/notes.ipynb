{
 "cells": [
  {
   "cell_type": "markdown",
   "metadata": {},
   "source": [
    "# functions\n",
    "\n",
    "> Why functions?\n",
    ">\n",
    "> DRY - Don't Repeat Yourself\n",
    "> Principle:  Code Smell (a sign that something is wrong) - Something is wrong. Is an intuition for developer that something is going wrong. If a code is repeated that is a code smell.\n",
    ">\n",
    "> The point of a function is if you want to change the logic of something you can do it in one place.\n",
    "> If there is a bug you can fix it in one plac\n",
    ">  adding features is easier.\n"
   ]
  },
  {
   "cell_type": "code",
   "execution_count": null,
   "metadata": {},
   "outputs": [
    {
     "name": "stdout",
     "output_type": "stream",
     "text": [
      "4 14\n"
     ]
    }
   ],
   "source": [
    "a = 1\n",
    "b = 3\n",
    "a+b\n",
    "\n",
    "# function declartion / definition - 1 time\n",
    "def add(a, b):\n",
    "    return round(a + b, 2)\n",
    "\n",
    "c1 = add(1, 3)\n",
    "c2 = add(4, 10)\n",
    "print(c1, c2)"
   ]
  },
  {
   "cell_type": "markdown",
   "metadata": {},
   "source": []
  },
  {
   "cell_type": "code",
   "execution_count": null,
   "metadata": {},
   "outputs": [
    {
     "ename": "_IncompleteInputError",
     "evalue": "incomplete input (1879409877.py, line 3)",
     "output_type": "error",
     "traceback": [
      "\u001b[1;36m  Cell \u001b[1;32mIn[5], line 3\u001b[1;36m\u001b[0m\n\u001b[1;33m    def add(a, b):\u001b[0m\n\u001b[1;37m                  ^\u001b[0m\n\u001b[1;31m_IncompleteInputError\u001b[0m\u001b[1;31m:\u001b[0m incomplete input\n"
     ]
    }
   ],
   "source": []
  }
 ],
 "metadata": {
  "kernelspec": {
   "display_name": "Python 3",
   "language": "python",
   "name": "python3"
  },
  "language_info": {
   "codemirror_mode": {
    "name": "ipython",
    "version": 3
   },
   "file_extension": ".py",
   "mimetype": "text/x-python",
   "name": "python",
   "nbconvert_exporter": "python",
   "pygments_lexer": "ipython3",
   "version": "3.13.2"
  }
 },
 "nbformat": 4,
 "nbformat_minor": 2
}
