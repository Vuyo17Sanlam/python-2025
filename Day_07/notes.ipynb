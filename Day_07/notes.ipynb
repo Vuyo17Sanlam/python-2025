{
 "cells": [
  {
   "cell_type": "code",
   "execution_count": 1,
   "metadata": {},
   "outputs": [
    {
     "name": "stdout",
     "output_type": "stream",
     "text": [
      "[100, 200, 300, 400]\n",
      "[100, 200, 300, 400]\n"
     ]
    }
   ],
   "source": [
    "t1 = [100, 200]\n",
    "t2 = [300, 400]\n",
    "t3 = t1 + t2\n",
    "print(t3)\n",
    "\n",
    "# ideally what you want is\n",
    "t1.extend(t2)\n",
    "print(t1)"
   ]
  },
  {
   "cell_type": "markdown",
   "metadata": {},
   "source": [
    "> The unpacking operator can also be used as a copy\n",
    ">\n",
    "```py\n",
    "t1 = [100, 200]\n",
    "t3 = [*t1] # unpacking values\n",
    "```\n"
   ]
  },
  {
   "cell_type": "code",
   "execution_count": null,
   "metadata": {},
   "outputs": [
    {
     "name": "stdout",
     "output_type": "stream",
     "text": [
      "(100, 200, 300, 400)\n"
     ]
    }
   ],
   "source": [
    "t4 = (*t1,  *t2)\n",
    "print(t4)\n"
   ]
  },
  {
   "cell_type": "code",
   "execution_count": 16,
   "metadata": {},
   "outputs": [
    {
     "name": "stdout",
     "output_type": "stream",
     "text": [
      "4\n"
     ]
    }
   ],
   "source": [
    "veggie = ([1, \"love\"], [2,\"okay\" ])\n",
    "veggie[1][0] = 4\n",
    "print(veggie[1][0])"
   ]
  },
  {
   "cell_type": "markdown",
   "metadata": {},
   "source": [
    "## unpacking operator for dictionary\n",
    "\n",
    "> dict1 = {age:}\n",
    "> \n",
    "> we make use of double star for the unpacking operator\n",
    "> \n",
    "> all_details = {**student, **details}"
   ]
  },
  {
   "cell_type": "code",
   "execution_count": 20,
   "metadata": {},
   "outputs": [
    {
     "name": "stdout",
     "output_type": "stream",
     "text": [
      "{1: 'three', 2: 'two', 4: 'four'}\n"
     ]
    }
   ],
   "source": [
    "dict1 = {1: \"one\", 2: \"two\"}\n",
    "dict2 = {1: \"three\", 4: \"four\"}\n",
    "print({**dict1, **dict2})"
   ]
  },
  {
   "cell_type": "markdown",
   "metadata": {},
   "source": [
    "> in unpacking of dictionary which ever one you give first is becomes the default value.....This is a pattern that we follow"
   ]
  },
  {
   "cell_type": "markdown",
   "metadata": {},
   "source": [
    "## creating a set\n",
    "\n",
    "- No Duplication\n",
    "- order is not guaranteed\n",
    "- its mutable"
   ]
  },
  {
   "cell_type": "code",
   "execution_count": 4,
   "metadata": {},
   "outputs": [
    {
     "name": "stdout",
     "output_type": "stream",
     "text": [
      "{1, 2, 3}\n",
      "<class 'set'>\n"
     ]
    }
   ],
   "source": [
    "set1 = {1,2}\n",
    "set1.add(3)\n",
    "print(set1)\n",
    "print(type (set()))"
   ]
  },
  {
   "cell_type": "markdown",
   "metadata": {},
   "source": [
    "# CRUD of set\n",
    "- create\n",
    "- Read -> by reading the entire set or loop through all the elements in a set\n",
    "- update\n",
    "- Delete -> discard() will not give an error if something is not in the set, remove()"
   ]
  },
  {
   "cell_type": "code",
   "execution_count": null,
   "metadata": {},
   "outputs": [
    {
     "name": "stdout",
     "output_type": "stream",
     "text": [
      "{'smartwatch', 'smartphone', 'laptop', 'tablet', 'smartglasses'}\n",
      "2\n"
     ]
    }
   ],
   "source": [
    "tech_gadgets = {\"smartphone\", \"laptop\", \"tablet\"}\n",
    "tech_gadgets.add(\"smartwatch\")\n",
    "tech_gadgets.update([\"smartglasses\", \"smartshoes\"])\n",
    "tech_gadgets.pop()\n",
    "# the update function takes an iterable\n",
    "print(tech_gadgets)\n",
    "\n",
    "list1 = [1,2,2]\n",
    "list2 = set()\n",
    "for l in list1:\n",
    "    list2.add(l)\n",
    "print(l)"
   ]
  },
  {
   "cell_type": "code",
   "execution_count": null,
   "metadata": {},
   "outputs": [],
   "source": []
  }
 ],
 "metadata": {
  "kernelspec": {
   "display_name": "Python 3",
   "language": "python",
   "name": "python3"
  },
  "language_info": {
   "codemirror_mode": {
    "name": "ipython",
    "version": 3
   },
   "file_extension": ".py",
   "mimetype": "text/x-python",
   "name": "python",
   "nbconvert_exporter": "python",
   "pygments_lexer": "ipython3",
   "version": "3.13.2"
  }
 },
 "nbformat": 4,
 "nbformat_minor": 2
}
